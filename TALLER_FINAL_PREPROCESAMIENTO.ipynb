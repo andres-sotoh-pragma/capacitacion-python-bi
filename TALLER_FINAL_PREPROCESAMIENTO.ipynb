{
  "cells": [
    {
      "cell_type": "markdown",
      "metadata": {
        "id": "0WwF3ROr5EfA"
      },
      "source": [
        "# Limpieza de datos\n",
        "\n",
        "* Preparar datos para el analisis\n",
        "* Los datos la mayoria de las veces no vienen limpios\n",
        "\n",
        "## Problemas comunes al trabajar con datos:\n",
        "\n",
        "* Datos faltantes (missing data) <br>\n",
        "* Datos anormales (Outliers) <br>\n",
        "* Estructura de la BD no apta para el modelo (Tidy data)<br>\n",
        "* Datos con formato inadecuado <br>\n"
      ]
    },
    {
      "cell_type": "markdown",
      "metadata": {
        "id": "hjCL4oPT5EfC"
      },
      "source": [
        "# Vamos a ver\n",
        "* Introduccion al analisis exploratorio\n",
        "* Llevar los datos a una estructura adecuada para hacer ML (tidying data)\n",
        "* Tratamiento de datos faltantes\n",
        "* Agregacion de variables"
      ]
    },
    {
      "cell_type": "markdown",
      "metadata": {
        "id": "s8e9T0Fp5EfC"
      },
      "source": [
        "## Introduccion al analisis exploratorio"
      ]
    },
    {
      "cell_type": "markdown",
      "metadata": {
        "id": "v98pTjbD5EfC"
      },
      "source": [
        "Dataset <br>\n",
        "https://data.cityofnewyork.us/Housing-Development/DOB-Job-Application-Filings/ic3t-wcy2"
      ]
    },
    {
      "cell_type": "markdown",
      "metadata": {
        "id": "Hdi2cU0i5EfC"
      },
      "source": [
        "Una lista de las solicitudes de trabajo presentadas para un día en particular y los datos asociados. Los informes semanales y mensuales anteriores se archivan en el DOB y no están disponibles en los datos abiertos de la Ciudad de Nueva York.\n",
        "\n",
        "**Nota:** estas solicitudes de trabajo se envían a través de las oficinas municipales, a través de eFiling o a través del HUB. Este conjunto de datos no incluye los trabajos enviados a través de DOB NOW.<br>\n",
        "\n",
        "https://webcache.googleusercontent.com/search?q=cache:rL9eJRCD8aMJ:https://www.opendatanetwork.com/dataset/data.cityofnewyork.us/ic3t-wcy2+&cd=3&hl=en&ct=clnk&gl=co\n",
        "\n"
      ]
    },
    {
      "cell_type": "code",
      "execution_count": null,
      "metadata": {
        "id": "dwlnHlLR5EfD"
      },
      "outputs": [],
      "source": [
        "import pandas as pd\n",
        "\n",
        "# leer el archivo en una dataframe df\n",
        "df = pd.read_csv('dob_job_application_filings_subset.csv',low_memory=False)"
      ]
    },
    {
      "cell_type": "code",
      "execution_count": null,
      "metadata": {
        "id": "Yd5w612v5EfD",
        "outputId": "44f60753-933c-4aa9-e758-c4e49979fb21"
      },
      "outputs": [],
      "source": [
        "# Explorar los datos en forma tabular\n"
      ]
    },
    {
      "cell_type": "code",
      "execution_count": null,
      "metadata": {
        "id": "BuGksrwV5EfE",
        "outputId": "28b60f58-c0ce-4c84-a375-bb73b0c17f48"
      },
      "outputs": [],
      "source": [
        "# explorar en numero de registros y descriptores"
      ]
    },
    {
      "cell_type": "code",
      "execution_count": null,
      "metadata": {
        "id": "ATp_D9Iv5EfE",
        "outputId": "a8b8dd93-ce7d-4130-f9d3-b0c6382cfcdb"
      },
      "outputs": [],
      "source": [
        "# explorar los nombres de los descriptores"
      ]
    },
    {
      "cell_type": "code",
      "execution_count": null,
      "metadata": {
        "hideOutput": true,
        "id": "bdnagjLL5EfE",
        "outputId": "06be3fa1-58ff-482a-a07e-f6d0822988d4"
      },
      "outputs": [],
      "source": [
        "# Identificar el formato de los datos y posibles datos faltantes"
      ]
    },
    {
      "cell_type": "code",
      "execution_count": null,
      "metadata": {
        "id": "i8jmmrq-5EfE",
        "outputId": "bb766b50-4cff-4f30-eeec-1662ec812f0e"
      },
      "outputs": [],
      "source": [
        "# Explorar estadisticos de variables numericas\n"
      ]
    },
    {
      "cell_type": "code",
      "execution_count": null,
      "metadata": {
        "id": "rpQFm77t5EfF",
        "outputId": "c2db12cb-d51c-494f-a147-0c7fff2e14e4"
      },
      "outputs": [],
      "source": [
        "# explorar cuantos registros hay por un tipo de variable categorica, en este caso Borough (localidad)\n"
      ]
    },
    {
      "cell_type": "code",
      "execution_count": null,
      "metadata": {
        "id": "7nHvxW3O5EfF",
        "outputId": "61c117a3-152e-4781-9f27-93ed7db23a77"
      },
      "outputs": [],
      "source": [
        "# explorar cuantos registros hay por un tipo de variable categorica 'Site Fill'\n"
      ]
    },
    {
      "cell_type": "markdown",
      "metadata": {
        "id": "ZODbPcq-5EfF"
      },
      "source": [
        "## Visualizacion de variables"
      ]
    },
    {
      "cell_type": "code",
      "execution_count": null,
      "metadata": {
        "id": "GxI73eh75EfF",
        "outputId": "022f8b00-c6f1-4727-c750-251f797c5b00"
      },
      "outputs": [],
      "source": [
        "#comando interno de jupyter, en otro IDE no es reconocido\n",
        "%matplotlib inline\n",
        "\n",
        "#una de las librerias mas famosas para graficar en python\n",
        "import matplotlib.pyplot as plt\n",
        "\n",
        "# Construimos una grafica de tipo histograma, kind podria ser scatter o line por ejemplo\n",
        "\n",
        "\n",
        "# graficamos el histograma\n"
      ]
    },
    {
      "cell_type": "code",
      "execution_count": null,
      "metadata": {
        "id": "5zoWHZoF5EfF",
        "outputId": "fac79ec7-3051-4a9f-b164-85d37cb7f19d"
      },
      "outputs": [],
      "source": [
        "#vemos un dato numerico que por el signo $ es reconocido como texto, es un problema tipico que los datos\n",
        "#numericos no son reconocidos como numeros."
      ]
    },
    {
      "cell_type": "markdown",
      "metadata": {
        "id": "GyT_Hcbp5EfF"
      },
      "source": [
        "**A continuacion, se presentan dos formas de procesar el texto y convertirlo a numerico**"
      ]
    },
    {
      "cell_type": "code",
      "execution_count": null,
      "metadata": {
        "id": "qsAwUUqY5EfF"
      },
      "outputs": [],
      "source": [
        "# Usando el metodo replace de la clase string\n"
      ]
    },
    {
      "cell_type": "code",
      "execution_count": null,
      "metadata": {
        "id": "s5yOewov5EfG"
      },
      "outputs": [],
      "source": [
        "# Usando expresiones regulares\n",
        "#https://regex-vis.com/?r=%5Cd%2B%5C.%5Cd%2B\n",
        "import re\n"
      ]
    },
    {
      "cell_type": "code",
      "execution_count": null,
      "metadata": {
        "id": "93-NB_-B5EfG",
        "outputId": "2c5a7f43-6670-440c-c764-4476eee04f6b"
      },
      "outputs": [],
      "source": [
        "#comparemos los resultados obtenidos\n"
      ]
    },
    {
      "cell_type": "code",
      "execution_count": null,
      "metadata": {
        "id": "Jr4alz9F5EfG",
        "outputId": "22463630-b33c-4952-e632-d009da757ab6"
      },
      "outputs": [],
      "source": [
        "# revisemos el formato de nuestros datos\n"
      ]
    },
    {
      "cell_type": "code",
      "execution_count": null,
      "metadata": {
        "id": "fqVmBYQP5EfG",
        "outputId": "1f4c7197-b73c-4922-96e0-1abf9f255cc6"
      },
      "outputs": [],
      "source": [
        "#casting a variables numericas\n"
      ]
    },
    {
      "cell_type": "code",
      "execution_count": null,
      "metadata": {
        "hideOutput": true,
        "id": "U0RNjKB75EfG",
        "outputId": "2e9f1871-2822-45f9-ec70-2a13ee6f6f22"
      },
      "outputs": [],
      "source": [
        "# El boxplot es una excelente forma de detectar outliers\n",
        "import pandas as pd\n",
        "import matplotlib.pyplot as plt\n",
        "\n",
        "# Create the boxplot\n",
        "\n",
        "\n",
        "# Display the plot\n"
      ]
    },
    {
      "cell_type": "code",
      "execution_count": null,
      "metadata": {
        "id": "WOzF0Av85EfH"
      },
      "outputs": [],
      "source": [
        "# Los outliers se deben investigar y determinar si son errores o no."
      ]
    }
  ],
  "metadata": {
    "colab": {
      "provenance": []
    },
    "kernelspec": {
      "display_name": "Python 3",
      "language": "python",
      "name": "python3"
    },
    "language_info": {
      "codemirror_mode": {
        "name": "ipython",
        "version": 3
      },
      "file_extension": ".py",
      "mimetype": "text/x-python",
      "name": "python",
      "nbconvert_exporter": "python",
      "pygments_lexer": "ipython3",
      "version": "3.11.6"
    }
  },
  "nbformat": 4,
  "nbformat_minor": 0
}
