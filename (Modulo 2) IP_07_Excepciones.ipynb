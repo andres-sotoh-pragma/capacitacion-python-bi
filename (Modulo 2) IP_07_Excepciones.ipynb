{
 "cells": [
  {
   "cell_type": "markdown",
   "id": "listed-extent",
   "metadata": {},
   "source": [
    "# Excepciones"
   ]
  },
  {
   "cell_type": "markdown",
   "id": "charitable-lingerie",
   "metadata": {},
   "source": [
    "* Las excepciones son eventos que representan situaciones excepcionales.\n",
    "* Alteran el flujo de ejecución convencional.\n",
    "* Python lanza excepciones automáticamente cuando se producen errores.\n",
    "* El programador puede lanzar excepciones de manera explícita y también capturar excepciones para actuar como se crea conveniente."
   ]
  },
  {
   "cell_type": "markdown",
   "id": "junior-lighting",
   "metadata": {},
   "source": [
    "#### Try/except\n",
    "\n",
    "* Permite capturar excepciones y actuar en consecuencia.\n",
    "\n",
    "Ejemplo: error de acceso fuera de rango."
   ]
  },
  {
   "cell_type": "code",
   "execution_count": null,
   "id": "refined-article",
   "metadata": {},
   "outputs": [],
   "source": [
    "lista = [6, 1, 0, 5]\n",
    "lista[4]\n",
    "print('Código tras el error')"
   ]
  },
  {
   "cell_type": "code",
   "execution_count": null,
   "id": "minus-hobby",
   "metadata": {},
   "outputs": [],
   "source": [
    "lista = [6, 1, 0, 5]\n",
    "try:\n",
    "    lista[4]\n",
    "except IndexError:\n",
    "    print('He capturado la excepción de tipo IndexError')\n",
    "    \n",
    "print('Código tras el bloque try')"
   ]
  },
  {
   "cell_type": "markdown",
   "id": "spare-wright",
   "metadata": {},
   "source": [
    "* Normalmente, al capturar excepciones, querremos ser lo más específicos posible, pero también se puedes usar una sentencia *try-except* que capture cualquier error."
   ]
  },
  {
   "cell_type": "code",
   "execution_count": null,
   "id": "empty-peter",
   "metadata": {},
   "outputs": [],
   "source": [
    "try:\n",
    "    4/0\n",
    "except:\n",
    "    print('He capturado la división por cero')"
   ]
  },
  {
   "cell_type": "markdown",
   "id": "crazy-drawing",
   "metadata": {},
   "source": [
    "#### Try/finally\n",
    "\n",
    "* A través de *finally* podemos especificar código que queremos que se ejecute siempre (independientemente de si se produce la excepción o no).\n",
    "* Se suele usar para liberar recursos."
   ]
  },
  {
   "cell_type": "code",
   "execution_count": null,
   "id": "composed-minneapolis",
   "metadata": {},
   "outputs": [],
   "source": [
    "lista = [6, 1, 0, 5]\n",
    "\n",
    "try:\n",
    "    lista[2]\n",
    "    # lista[4]\n",
    "finally:\n",
    "    print('Bloque finally')\n",
    "\n",
    "print('Código tras el bloque try')"
   ]
  },
  {
   "cell_type": "markdown",
   "id": "likely-wyoming",
   "metadata": {},
   "source": [
    "#### raise\n",
    "\n",
    "* La sentencia *raise* nos permite lanzar excepciones de manera explícita."
   ]
  },
  {
   "cell_type": "code",
   "execution_count": null,
   "id": "after-ladder",
   "metadata": {},
   "outputs": [],
   "source": [
    "lista = [6, 1, 0, 5]\n",
    "indice = 4\n",
    "\n",
    "#try:\n",
    "\n",
    "if indice >= len(lista):\n",
    "    raise IndexError('Índice fuera de rango')\n",
    "\n",
    "#except IndexError:\n",
    "#    print('Excepción de tipo IndexError capturada')"
   ]
  }
 ],
 "metadata": {
  "kernelspec": {
   "display_name": "Python 3",
   "language": "python",
   "name": "python3"
  },
  "language_info": {
   "codemirror_mode": {
    "name": "ipython",
    "version": 3
   },
   "file_extension": ".py",
   "mimetype": "text/x-python",
   "name": "python",
   "nbconvert_exporter": "python",
   "pygments_lexer": "ipython3",
   "version": "3.9.2"
  }
 },
 "nbformat": 4,
 "nbformat_minor": 5
}
