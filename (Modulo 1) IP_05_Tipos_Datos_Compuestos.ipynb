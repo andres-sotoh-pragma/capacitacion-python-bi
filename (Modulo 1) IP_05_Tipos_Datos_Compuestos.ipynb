{
 "cells": [
  {
   "cell_type": "markdown",
   "id": "cross-liberal",
   "metadata": {},
   "source": [
    "# Tipos de datos compuestos (colecciones)"
   ]
  },
  {
   "cell_type": "markdown",
   "id": "white-cathedral",
   "metadata": {},
   "source": [
    "### En la unidad temática anterior ..."
   ]
  },
  {
   "cell_type": "markdown",
   "id": "exciting-anthropology",
   "metadata": {},
   "source": [
    "* Expresiones literales.\n",
    "   * Simples.\n",
    "   * Compuestos.\n",
    "* Variables.\n",
    "* Tipos de datos básicos.\n",
    "   * Bool.\n",
    "   * Int.\n",
    "   * String.\n",
    "* Operadores.\n",
    "   * Aritméticos (+, -, *, ...).\n",
    "   * Comparación (<, >, ==, ...).\n",
    "   * Lógicos (and, or, not).\n",
    "   * Asignación (=, +=, -=, ...).\n",
    "   * Identidad (is, is not).\n",
    "   * Pertenencia (in, not in)."
   ]
  },
  {
   "cell_type": "markdown",
   "id": "advanced-capacity",
   "metadata": {},
   "source": [
    "### En esta unidad temática ..."
   ]
  },
  {
   "cell_type": "markdown",
   "id": "sealed-avatar",
   "metadata": {},
   "source": [
    "* Listas.\n",
    "* Diccionarios.\n",
    "* Conjuntos (sets).\n",
    "* Tuplas."
   ]
  },
  {
   "cell_type": "markdown",
   "id": "honest-prototype",
   "metadata": {},
   "source": [
    "## Listas\n",
    "\n",
    "* Una colección de objetos.\n",
    "* Mutables.\n",
    "* Tipos arbitrarios.\n",
    "* Puede contener duplicados.\n",
    "* No tienen tamaño fijo. Pueden contener tantos elementos como quepan en memoria.\n",
    "* Los elementos van ordenados por posición.\n",
    "* Se acceden usando la sintaxis: **[index]**.\n",
    "* Los índices van de *0* a *n-1*, donde *n* es el número de elementos de la lista.\n",
    "* Son un tipo de *Secuencia*, al igual que los strings; por lo tanto, el orden (es decir, la posición de los objetos de la lista) es importante.\n",
    "* Soportan anidamiento.\n",
    "* Son una implementación del tipo abstracto de datos: *Array Dinámico*."
   ]
  },
  {
   "cell_type": "markdown",
   "id": "bearing-jordan",
   "metadata": {
    "tags": []
   },
   "source": [
    "#### Operaciones con listas"
   ]
  },
  {
   "cell_type": "markdown",
   "id": "dressed-detail",
   "metadata": {},
   "source": [
    "* Creación de listas."
   ]
  },
  {
   "cell_type": "code",
   "execution_count": null,
   "id": "smoking-character",
   "metadata": {},
   "outputs": [],
   "source": [
    "letras = ['a', 'b', 'c', 'd']\n",
    "palabras = 'Hola mundo'.split()\n",
    "numeros = list(range(5))\n",
    "\n",
    "print(letras)\n",
    "print(palabras)\n",
    "print(numeros)\n",
    "print(type(numeros))"
   ]
  },
  {
   "cell_type": "code",
   "execution_count": null,
   "id": "molecular-auditor",
   "metadata": {},
   "outputs": [],
   "source": [
    "# Pueden contener elementos arbitrarios\n",
    "\n",
    "mezcla = [1, 3.4, 'a', None, False]\n",
    "print(mezcla)"
   ]
  },
  {
   "cell_type": "code",
   "execution_count": null,
   "id": "romance-opposition",
   "metadata": {},
   "outputs": [],
   "source": [
    "# Pueden incluso contener objetos más \"complejos\"\n",
    "\n",
    "lista_con_funcion = [1, 2, len]\n",
    "print(lista_con_funcion)"
   ]
  },
  {
   "cell_type": "code",
   "execution_count": null,
   "id": "superior-poison",
   "metadata": {},
   "outputs": [],
   "source": [
    "# Pueden contener duplicados\n",
    "\n",
    "lista_con_duplicados = [1, 2, 3, 3, 3, 4]\n",
    "print(lista_con_duplicados)"
   ]
  },
  {
   "cell_type": "markdown",
   "id": "spread-title",
   "metadata": {},
   "source": [
    "* Obtención de la longitud de una lista."
   ]
  },
  {
   "cell_type": "code",
   "execution_count": null,
   "id": "wrapped-shell",
   "metadata": {},
   "outputs": [],
   "source": [
    "letras = ['a', 'b', 'c', 'd']\n",
    "print(len(letras))"
   ]
  },
  {
   "cell_type": "markdown",
   "id": "military-position",
   "metadata": {},
   "source": [
    "* Acceso a un elemento de una lista"
   ]
  },
  {
   "cell_type": "code",
   "execution_count": null,
   "id": "inside-speed",
   "metadata": {},
   "outputs": [],
   "source": [
    "print(letras[2])\n",
    "print(letras[-1])"
   ]
  },
  {
   "cell_type": "markdown",
   "id": "combined-server",
   "metadata": {},
   "source": [
    "* **Slicing**: obtención de un fragmento de una lista.\n",
    "\n",
    "    * Sintaxis:  *lista [ inicio : fin : paso ]*"
   ]
  },
  {
   "cell_type": "code",
   "execution_count": null,
   "id": "described-company",
   "metadata": {},
   "outputs": [],
   "source": [
    "letras = ['a', 'b', 'c', 'd']\n",
    "\n",
    "print(letras[1:3])\n",
    "print(letras[:1])\n",
    "print(letras[:-1])\n",
    "print(letras[2:])\n",
    "print(letras[:])\n",
    "print(letras[::2])"
   ]
  },
  {
   "cell_type": "markdown",
   "id": "returning-albert",
   "metadata": {},
   "source": [
    "* Añadir un elemento al final de la lista"
   ]
  },
  {
   "cell_type": "code",
   "execution_count": null,
   "id": "julian-connection",
   "metadata": {},
   "outputs": [],
   "source": [
    "letras.append('e')\n",
    "print(letras)"
   ]
  },
  {
   "cell_type": "markdown",
   "id": "pleased-overhead",
   "metadata": {},
   "source": [
    "* Insertar en posición."
   ]
  },
  {
   "cell_type": "code",
   "execution_count": null,
   "id": "roman-disclaimer",
   "metadata": {},
   "outputs": [],
   "source": [
    "letras.insert(1,'b')\n",
    "print(letras)"
   ]
  },
  {
   "cell_type": "markdown",
   "id": "subject-thesaurus",
   "metadata": {},
   "source": [
    "* Modificación de la lista (individual)."
   ]
  },
  {
   "cell_type": "code",
   "execution_count": null,
   "id": "handmade-acting",
   "metadata": {},
   "outputs": [],
   "source": [
    "letras[5] = 'f'\n",
    "print(letras)"
   ]
  },
  {
   "cell_type": "markdown",
   "id": "detected-cosmetic",
   "metadata": {},
   "source": [
    "* Modificación múltiple usando slicing."
   ]
  },
  {
   "cell_type": "code",
   "execution_count": null,
   "id": "attached-korea",
   "metadata": {},
   "outputs": [],
   "source": [
    "letras[1:3] = ['z', 'z', 'z']\n",
    "print(letras)"
   ]
  },
  {
   "cell_type": "code",
   "execution_count": null,
   "id": "private-extraction",
   "metadata": {},
   "outputs": [],
   "source": [
    "# Ojo con la diferencia entre modificación individual y múltiple. Asignación individual de lista crea anidamiento.\n",
    "\n",
    "numeros = [1, 2, 3]\n",
    "numeros[1] = [0, 0, 0]\n",
    "\n",
    "print(numeros)"
   ]
  },
  {
   "cell_type": "markdown",
   "id": "returning-criticism",
   "metadata": {},
   "source": [
    "* Eliminar un elemento."
   ]
  },
  {
   "cell_type": "code",
   "execution_count": null,
   "id": "reflected-advantage",
   "metadata": {},
   "outputs": [],
   "source": [
    "letras.remove('f')\n",
    "letras.remove('z')\n",
    "letras.remove('z')\n",
    "print(letras)"
   ]
  },
  {
   "cell_type": "markdown",
   "id": "enhanced-sister",
   "metadata": {},
   "source": [
    "* Encontrar índice de un elemento."
   ]
  },
  {
   "cell_type": "code",
   "execution_count": null,
   "id": "dietary-sampling",
   "metadata": {},
   "outputs": [],
   "source": [
    "letras = ['a', 'b', 'c', 'd']\n",
    "print(letras.index('c'))"
   ]
  },
  {
   "cell_type": "markdown",
   "id": "oriented-journalism",
   "metadata": {},
   "source": [
    "* Concatenar listas."
   ]
  },
  {
   "cell_type": "code",
   "execution_count": null,
   "id": "adolescent-clarity",
   "metadata": {},
   "outputs": [],
   "source": [
    "lacteos = ['queso', 'leche']\n",
    "frutas = ['naranja', 'manzana']\n",
    "print(lacteos + frutas)"
   ]
  },
  {
   "cell_type": "code",
   "execution_count": null,
   "id": "entire-trail",
   "metadata": {},
   "outputs": [],
   "source": [
    "# Concatenación sin crear una nueva lista\n",
    "frutas.extend(['pera'])\n",
    "print(frutas)"
   ]
  },
  {
   "cell_type": "markdown",
   "id": "opposed-transcription",
   "metadata": {},
   "source": [
    "* Replicar una lista."
   ]
  },
  {
   "cell_type": "code",
   "execution_count": null,
   "id": "southwest-insured",
   "metadata": {},
   "outputs": [],
   "source": [
    "lacteos = ['queso', 'leche']\n",
    "print(lacteos * 3)"
   ]
  },
  {
   "cell_type": "markdown",
   "id": "toxic-facing",
   "metadata": {},
   "source": [
    "* Copiar una lista"
   ]
  },
  {
   "cell_type": "code",
   "execution_count": null,
   "id": "vertical-vaccine",
   "metadata": {},
   "outputs": [],
   "source": [
    "frutas2 = frutas.copy()\n",
    "print(frutas2)\n",
    "print('id frutas = ' + str(id(frutas)))\n",
    "print('id frutas2 = ' + str(id(frutas2)))"
   ]
  },
  {
   "cell_type": "markdown",
   "id": "received-assistant",
   "metadata": {},
   "source": [
    "* Ordenar una lista."
   ]
  },
  {
   "cell_type": "code",
   "execution_count": null,
   "id": "correct-guess",
   "metadata": {},
   "outputs": [],
   "source": [
    "lista = [4,3,8,1]\n",
    "lista.sort()\n",
    "print(lista)\n",
    "\n",
    "lista.sort(reverse=True)\n",
    "print(lista)"
   ]
  },
  {
   "cell_type": "code",
   "execution_count": null,
   "id": "civic-blood",
   "metadata": {},
   "outputs": [],
   "source": [
    "# Los elementos deben ser comparables para poderse ordenar\n",
    "\n",
    "lista = [1, 'a']\n",
    "lista.sort()"
   ]
  },
  {
   "cell_type": "markdown",
   "id": "involved-greek",
   "metadata": {},
   "source": [
    "* Pertenencia."
   ]
  },
  {
   "cell_type": "code",
   "execution_count": null,
   "id": "numeric-vitamin",
   "metadata": {},
   "outputs": [],
   "source": [
    "lista = [1, 2, 3, 4]\n",
    "print(1 in lista)\n",
    "print(5 in lista)"
   ]
  },
  {
   "cell_type": "markdown",
   "id": "mounted-conviction",
   "metadata": {},
   "source": [
    "* Anidamiento."
   ]
  },
  {
   "cell_type": "code",
   "execution_count": null,
   "id": "announced-onion",
   "metadata": {},
   "outputs": [],
   "source": [
    "letras = ['a', 'b', 'c', ['x', 'y', ['i', 'j', 'k']]]\n",
    "print(letras[0])\n",
    "print(letras[3][0])\n",
    "print(letras[3][2][0])"
   ]
  },
  {
   "cell_type": "markdown",
   "id": "incorporated-tooth",
   "metadata": {},
   "source": [
    "## Diccionarios\n",
    "\n",
    "* Colección de parejas clave-valor.\n",
    "* Son mutables.\n",
    "* Claves:\n",
    "   * Cualquier objeto inmutable.\n",
    "   * Sólo pueden aparecer una vez en el diccionario.\n",
    "* Valores:\n",
    "   * Sin restricciones. Cualquier objeto (enteros, strings, listas, etc.) puede hacer de valor.\n",
    "* Desde la versión 3.7 están ordenados.\n",
    "* Se pueden ver como listas indexadas por cualquier objeto inmutable, no necesariamente por números enteros.\n",
    "* A diferencia de las listas, no son *secuencias*. Son *mappings*."
   ]
  },
  {
   "cell_type": "markdown",
   "id": "chubby-detector",
   "metadata": {},
   "source": [
    "#### Operaciones con diccionarios"
   ]
  },
  {
   "cell_type": "markdown",
   "id": "sweet-gregory",
   "metadata": {},
   "source": [
    "* Creación de diccionarios."
   ]
  },
  {
   "cell_type": "code",
   "execution_count": null,
   "id": "royal-listening",
   "metadata": {},
   "outputs": [],
   "source": [
    "# Creación simple, usando una expresión literal.\n",
    "\n",
    "persona = {'DNI' : '11111111D', 'Nombre' : 'Carlos', 'Edad' : 34}\n",
    "print(persona)"
   ]
  },
  {
   "cell_type": "code",
   "execution_count": null,
   "id": "enhanced-sharing",
   "metadata": {},
   "outputs": [],
   "source": [
    "# Creación uniendo dos colecciones.\n",
    "\n",
    "nombres = ['Pablo', 'Manolo', 'Pepe']\n",
    "edades = [52, 14, 65]\n",
    "\n",
    "datos = dict(zip(nombres,edades))\n",
    "print(datos)"
   ]
  },
  {
   "cell_type": "code",
   "execution_count": null,
   "id": "revolutionary-westminster",
   "metadata": {
    "tags": []
   },
   "outputs": [],
   "source": [
    "# Creación pasando claves y valores a la función 'dict'.\n",
    "\n",
    "persona2 = dict(nombre='Rosa', apellido='Garcia')\n",
    "print(persona2)"
   ]
  },
  {
   "cell_type": "code",
   "execution_count": null,
   "id": "average-beach",
   "metadata": {},
   "outputs": [],
   "source": [
    "# Creación usando una lista de tuplas de dos elementos.\n",
    "\n",
    "persona2 = dict([('nombre', 'Rosa'), ('apellido','Garcia')])\n",
    "print(persona2)"
   ]
  },
  {
   "cell_type": "code",
   "execution_count": null,
   "id": "beautiful-skating",
   "metadata": {},
   "outputs": [],
   "source": [
    "# Creación incremental por medio de asignación (como las claves no existen, se crean nuevos items)\n",
    "\n",
    "persona = {}\n",
    "persona['DNI'] = '11111111D'\n",
    "persona['Nombre'] = 'Carlos'\n",
    "persona['Edad'] = 34\n",
    "\n",
    "print(persona)"
   ]
  },
  {
   "cell_type": "markdown",
   "id": "linear-martin",
   "metadata": {},
   "source": [
    "* Acceso a un valor a través de la clave."
   ]
  },
  {
   "cell_type": "code",
   "execution_count": null,
   "id": "upper-climate",
   "metadata": {},
   "outputs": [],
   "source": [
    "persona = {'DNI' : '11111111D', 'Nombre' : 'Carlos', 'Edad' : 34}\n",
    "print(persona['Nombre'])"
   ]
  },
  {
   "cell_type": "code",
   "execution_count": null,
   "id": "thick-efficiency",
   "metadata": {},
   "outputs": [],
   "source": [
    "# Acceso a claves inexistentes o por índice produce error\n",
    "\n",
    "#persona[1]\n",
    "persona['Trabajo']"
   ]
  },
  {
   "cell_type": "markdown",
   "id": "perfect-algeria",
   "metadata": {},
   "source": [
    "* Modificación de un valor a través de la clave."
   ]
  },
  {
   "cell_type": "code",
   "execution_count": null,
   "id": "established-hundred",
   "metadata": {},
   "outputs": [],
   "source": [
    "persona = {'DNI' : '11111111D', 'Nombre' : 'Carlos', 'Edad' : 34}\n",
    "persona['Nombre'] = 'Fernando'\n",
    "persona['Edad'] += 1\n",
    "\n",
    "print(persona)"
   ]
  },
  {
   "cell_type": "markdown",
   "id": "surface-factor",
   "metadata": {},
   "source": [
    "* Añadir un valor a través de la clave."
   ]
  },
  {
   "cell_type": "code",
   "execution_count": null,
   "id": "given-horse",
   "metadata": {},
   "outputs": [],
   "source": [
    "persona = {'DNI' : '11111111D', 'Nombre' : 'Carlos', 'Edad' : 34}\n",
    "persona['Ciudad'] = 'Valencia'\n",
    "\n",
    "print(persona)"
   ]
  },
  {
   "cell_type": "markdown",
   "id": "rental-narrow",
   "metadata": {},
   "source": [
    "* Eliminación de un valor a través de la clave."
   ]
  },
  {
   "cell_type": "code",
   "execution_count": null,
   "id": "planned-plant",
   "metadata": {},
   "outputs": [],
   "source": [
    "del persona['Ciudad']\n",
    "value = persona.pop('Edad')\n",
    "\n",
    "print(persona)\n",
    "print(value)"
   ]
  },
  {
   "cell_type": "markdown",
   "id": "hindu-wesley",
   "metadata": {},
   "source": [
    "* Comprobación de existencia de clave."
   ]
  },
  {
   "cell_type": "code",
   "execution_count": null,
   "id": "radio-miracle",
   "metadata": {},
   "outputs": [],
   "source": [
    "print('Nombre' in persona)\n",
    "print('Apellido' in persona)"
   ]
  },
  {
   "cell_type": "markdown",
   "id": "complimentary-feedback",
   "metadata": {},
   "source": [
    "* Recuperación del valor de una clave, indicando valor por defecto en caso de ausencia."
   ]
  },
  {
   "cell_type": "code",
   "execution_count": null,
   "id": "restricted-india",
   "metadata": {},
   "outputs": [],
   "source": [
    "persona = {'Nombre' : 'Carlos'}\n",
    "\n",
    "value = persona.get('Nombre')\n",
    "print(value)\n",
    "\n",
    "value = persona.get('Estatura', 180)\n",
    "print(value)"
   ]
  },
  {
   "cell_type": "markdown",
   "id": "younger-reform",
   "metadata": {},
   "source": [
    "* Anidamiento."
   ]
  },
  {
   "cell_type": "code",
   "execution_count": null,
   "id": "painful-snake",
   "metadata": {},
   "outputs": [],
   "source": [
    "persona = {\n",
    "    'Trabajos' : ['desarrollador', 'gestor'],\n",
    "    'Direccion' : {'Calle' : 'Pintor Sorolla', 'Ciudad' : 'Valencia'}\n",
    "}\n",
    "\n",
    "print(persona['Direccion'])\n",
    "print(persona['Direccion']['Ciudad'])"
   ]
  },
  {
   "cell_type": "markdown",
   "id": "outside-projection",
   "metadata": {},
   "source": [
    "* Métodos *items*, *keys* y *values*."
   ]
  },
  {
   "cell_type": "code",
   "execution_count": null,
   "id": "english-creature",
   "metadata": {},
   "outputs": [],
   "source": [
    "persona = {'DNI' : '11111111D', 'Nombre' : 'Carlos', 'Edad' : 34}\n",
    "\n",
    "print(list(persona.items()))\n",
    "print(list(persona.keys()))\n",
    "print(list(persona.values()))"
   ]
  },
  {
   "cell_type": "code",
   "execution_count": null,
   "metadata": {},
   "outputs": [],
   "source": [
    "{1}"
   ]
  },
  {
   "cell_type": "markdown",
   "id": "bulgarian-dakota",
   "metadata": {},
   "source": [
    "## Sets (Conjuntos)\n",
    "\n",
    "Al igual que las listas:\n",
    "\n",
    "* Colección de elementos.\n",
    "* Tipos arbitrarios.\n",
    "* Mutables.\n",
    "* No tienen tamaño fijo. Pueden contener tantos elementos como quepan en memoria.\n",
    "\n",
    "A diferencia de las listas:\n",
    "\n",
    "* No puede tener duplicados.\n",
    "* Se definen por medio de llaves.\n",
    "* Los elementos no van ordenados por posición. No hay orden establecido.\n",
    "* Solo pueden contener objetos inmutables.\n",
    "* No soportan anidamiento."
   ]
  },
  {
   "cell_type": "markdown",
   "id": "bottom-wheel",
   "metadata": {},
   "source": [
    "#### Operaciones con conjuntos"
   ]
  },
  {
   "cell_type": "markdown",
   "id": "sound-riverside",
   "metadata": {},
   "source": [
    "* Creación de conjuntos."
   ]
  },
  {
   "cell_type": "code",
   "execution_count": null,
   "id": "auburn-tractor",
   "metadata": {},
   "outputs": [],
   "source": [
    "set1 = {0, 1, 1, 2, 3, 4, 4}\n",
    "print(set1)\n",
    "  \n",
    "set2 = {'user1', 12, 2}\n",
    "print(set2)\n",
    "\n",
    "set3 = set(range(7))\n",
    "print(set3)\n",
    "\n",
    "set4 = set([0, 1, 2, 3, 4, 0, 1])\n",
    "print(set4)"
   ]
  },
  {
   "cell_type": "code",
   "execution_count": null,
   "id": "fifth-arrest",
   "metadata": {},
   "outputs": [],
   "source": [
    "# Observa la diferencia entre listas y conjuntos\n",
    "\n",
    "s = 'aabbc'\n",
    "print(list(s))\n",
    "print(set(s))"
   ]
  },
  {
   "cell_type": "markdown",
   "id": "interesting-ceiling",
   "metadata": {},
   "source": [
    "* Acceso por índice genera error."
   ]
  },
  {
   "cell_type": "code",
   "execution_count": null,
   "id": "consolidated-mercy",
   "metadata": {},
   "outputs": [],
   "source": [
    "set1 = {0, 1, 2}\n",
    "print(set1[0])"
   ]
  },
  {
   "cell_type": "markdown",
   "id": "portable-detector",
   "metadata": {},
   "source": [
    "* Unión, intersección y diferencia."
   ]
  },
  {
   "cell_type": "code",
   "execution_count": null,
   "id": "included-oxford",
   "metadata": {},
   "outputs": [],
   "source": [
    "set1 = {0, 1, 1, 2, 3, 4, 5, 8, 13, 21}\n",
    "set2 = set([0, 1, 2, 3, 4, 42])\n",
    "\n",
    "# union\n",
    "print(set1 | set2)\n",
    "\n",
    "# intersección\n",
    "print(set1 & set2)\n",
    "\n",
    "# diferencia\n",
    "print(set1 - set2)\n",
    "print(set2 - set1)"
   ]
  },
  {
   "cell_type": "code",
   "execution_count": null,
   "id": "behavioral-bulgarian",
   "metadata": {},
   "outputs": [],
   "source": [
    "# Además de los operadores, que operan únicamente con Sets, también se pueden usar métodos que pueden operar sobre cualquier objeto iterable.\n",
    "\n",
    "conjunto = {0, 1, 2}\n",
    "lista = [1, 3, 3]\n",
    "\n",
    "print(conjunto.union(lista))\n",
    "print(conjunto.intersection(lista))\n",
    "print(conjunto.difference(lista))"
   ]
  },
  {
   "cell_type": "markdown",
   "id": "extreme-watts",
   "metadata": {},
   "source": [
    "* comparación de conjuntos."
   ]
  },
  {
   "cell_type": "code",
   "execution_count": null,
   "id": "automotive-vulnerability",
   "metadata": {},
   "outputs": [],
   "source": [
    "set1 = {0, 1, 1, 2, 3, 4, 5, 8, 13, 21}\n",
    "set2 = set([0, 1, 2, 3, 4])\n",
    "\n",
    "print(set2.issubset(set1))\n",
    "print(set1.issuperset(set2))\n",
    "print(set1.isdisjoint(set2))"
   ]
  },
  {
   "cell_type": "markdown",
   "id": "obvious-military",
   "metadata": {},
   "source": [
    "* Pertenencia."
   ]
  },
  {
   "cell_type": "code",
   "execution_count": null,
   "id": "straight-brown",
   "metadata": {},
   "outputs": [],
   "source": [
    "words = {'calm', 'balm'}\n",
    "print('calm' in words)"
   ]
  },
  {
   "cell_type": "markdown",
   "id": "engaged-perception",
   "metadata": {},
   "source": [
    "* Anidamiento."
   ]
  },
  {
   "cell_type": "code",
   "execution_count": null,
   "id": "duplicate-pacific",
   "metadata": {},
   "outputs": [],
   "source": [
    "# Los conjuntos no soportan anidamiento, pero como permite elementos inmutables, se pueden \"anidar\" tuplas.\n",
    "\n",
    "nested_set = {1, (1, 1, 1), 2, 3}\n",
    "print(nested_set)"
   ]
  },
  {
   "cell_type": "markdown",
   "id": "international-berry",
   "metadata": {},
   "source": [
    "* Modificación de conjuntos."
   ]
  },
  {
   "cell_type": "code",
   "execution_count": null,
   "id": "productive-second",
   "metadata": {},
   "outputs": [],
   "source": [
    "# A través de operador de asignación\n",
    "\n",
    "set1 = {'a', 'b', 'c'}\n",
    "set2 = {'a', 'd'}\n",
    "\n",
    "set1 |= set2\n",
    "#set1 &= set2\n",
    "#set1 -= set2\n",
    "\n",
    "print(set1)"
   ]
  },
  {
   "cell_type": "code",
   "execution_count": null,
   "id": "second-explorer",
   "metadata": {},
   "outputs": [],
   "source": [
    "# A través de método 'update'.\n",
    "\n",
    "set1 = {'a', 'b', 'c'}\n",
    "set2 = {'a', 'd'}\n",
    "\n",
    "set1.update(set2)\n",
    "#set1.intersection_update(set2)\n",
    "#set1.difference_update(set2)\n",
    "\n",
    "print(set1)"
   ]
  },
  {
   "cell_type": "code",
   "execution_count": null,
   "id": "solid-lewis",
   "metadata": {},
   "outputs": [],
   "source": [
    "# A través de métodos 'add' y 'remove'.\n",
    "\n",
    "set1 = {'a', 'b', 'c'}\n",
    "\n",
    "set1.add('d')\n",
    "set1.remove('a')\n",
    "\n",
    "print(set1)"
   ]
  },
  {
   "cell_type": "markdown",
   "id": "requested-funds",
   "metadata": {},
   "source": [
    "## Tuplas\n",
    "\n",
    "Al igual que las listas:\n",
    "\n",
    "* Colección de elementos.\n",
    "* Tipos arbitrarios.\n",
    "* Puede contener duplicados.\n",
    "* No tienen tamaño fijo. Pueden contener tantos elementos como quepan en memoria.\n",
    "* Los elementos van ordenados por posición.\n",
    "* Acceso a través de la sintaxis: __[index]__\n",
    "* Índices van de *0* a *n-1*, donde *n* es el número de elementos de la tupla.\n",
    "* Son *secuencias* donde el orden de los elementos importa.\n",
    "* Soportan anidamiento.\n",
    "\n",
    "A diferencia de las listas:\n",
    "\n",
    "* Se definen por medio de paréntesis.\n",
    "* Inmutables."
   ]
  },
  {
   "cell_type": "markdown",
   "id": "sunset-logic",
   "metadata": {},
   "source": [
    "#### ¿Por qué tuplas?\n",
    "\n",
    "* Representación de una colección fija de elementos (por ejemplo, una fecha).\n",
    "* Pueden usarse en contextos que requieren inmutabilidad (por ejemplo, como claves de un diccionario)."
   ]
  },
  {
   "cell_type": "markdown",
   "id": "anticipated-crazy",
   "metadata": {},
   "source": [
    "#### Operaciones con tuplas"
   ]
  },
  {
   "cell_type": "markdown",
   "id": "small-kidney",
   "metadata": {},
   "source": [
    "* Creación de tuplas."
   ]
  },
  {
   "cell_type": "code",
   "execution_count": null,
   "id": "conservative-control",
   "metadata": {},
   "outputs": [],
   "source": [
    "tuple1 = ('Foo', 34, 5.0, 34)\n",
    "print(tuple1)\n",
    "\n",
    "tuple2 = 1, 2, 3\n",
    "print(tuple2)\n",
    "\n",
    "tuple3 = tuple(range(10))\n",
    "print(tuple3)\n",
    "\n",
    "tuple4 = tuple([0, 1, 2, 3, 4])\n",
    "print(tuple4)"
   ]
  },
  {
   "cell_type": "code",
   "execution_count": null,
   "id": "limiting-intersection",
   "metadata": {},
   "outputs": [],
   "source": [
    "# Ojo con las tuplas de un elemento. Los paréntesis se intepretan como indicadores de precedencia de operadores.\n",
    "\n",
    "singleton_number = (1)\n",
    "type(singleton_number)"
   ]
  },
  {
   "cell_type": "code",
   "execution_count": null,
   "id": "circular-accommodation",
   "metadata": {},
   "outputs": [],
   "source": [
    "# Creación de tupla de un elemento.\n",
    "\n",
    "singleton_tuple = (1,)\n",
    "type(singleton_tuple)"
   ]
  },
  {
   "cell_type": "markdown",
   "id": "defined-chick",
   "metadata": {},
   "source": [
    "* Obtención del número de elementos."
   ]
  },
  {
   "cell_type": "code",
   "execution_count": null,
   "id": "magnetic-neutral",
   "metadata": {},
   "outputs": [],
   "source": [
    "print(len(tuple1))"
   ]
  },
  {
   "cell_type": "markdown",
   "id": "nutritional-journey",
   "metadata": {},
   "source": [
    "* Acceso por índice."
   ]
  },
  {
   "cell_type": "code",
   "execution_count": null,
   "id": "respective-default",
   "metadata": {},
   "outputs": [],
   "source": [
    "tuple1 = ('Foo', 1, 2, 3)\n",
    "\n",
    "print(tuple1[0]) # Primer elemento\n",
    "print(tuple1[len(tuple1)-1]) # Último elemento\n",
    "\n",
    "print(tuple1[-1]) # Índices negativos comienzan desde el final\n",
    "print(tuple1[-len(tuple1)]) # primer elemento"
   ]
  },
  {
   "cell_type": "markdown",
   "id": "improved-berkeley",
   "metadata": {},
   "source": [
    "* Asignación a tuplas falla. Son immutables."
   ]
  },
  {
   "cell_type": "code",
   "execution_count": null,
   "id": "accepting-praise",
   "metadata": {},
   "outputs": [],
   "source": [
    "tuple1[0] = 'bar'"
   ]
  },
  {
   "cell_type": "markdown",
   "id": "accessible-mountain",
   "metadata": {},
   "source": [
    "* Contar número de ocurrencias de un elemento."
   ]
  },
  {
   "cell_type": "code",
   "execution_count": null,
   "id": "broken-ethiopia",
   "metadata": {},
   "outputs": [],
   "source": [
    "tuple1 = ('Foo',34, 5.0, 34)\n",
    "print(tuple1.count(34))"
   ]
  },
  {
   "cell_type": "markdown",
   "id": "available-reproduction",
   "metadata": {},
   "source": [
    "* Encontrar el índice de un elemento."
   ]
  },
  {
   "cell_type": "code",
   "execution_count": null,
   "id": "lesser-platform",
   "metadata": {},
   "outputs": [],
   "source": [
    "tuple1 = ('Foo', 34, 5.0, 34)\n",
    "indice = tuple1.index(34)\n",
    "\n",
    "print(indice)\n",
    "print(tuple1[indice])"
   ]
  },
  {
   "cell_type": "code",
   "execution_count": null,
   "id": "physical-fishing",
   "metadata": {},
   "outputs": [],
   "source": [
    "# Si el elemento no existe, error\n",
    "\n",
    "tuple1 = ('Foo', 34, 5.0, 34)\n",
    "print(tuple1.index(1))"
   ]
  },
  {
   "cell_type": "markdown",
   "id": "upper-monaco",
   "metadata": {},
   "source": [
    "* Desempaquetar una tupla."
   ]
  },
  {
   "cell_type": "code",
   "execution_count": null,
   "id": "rotary-novel",
   "metadata": {},
   "outputs": [],
   "source": [
    "tuple1 = (1, 2, 3, 4)\n",
    "a, b, c, d = tuple1\n",
    "\n",
    "print(a)\n",
    "print(b)\n",
    "print(c)\n",
    "print(d)"
   ]
  },
  {
   "cell_type": "code",
   "execution_count": null,
   "id": "stylish-cruise",
   "metadata": {},
   "outputs": [],
   "source": [
    "a, b, *resto = tuple1\n",
    "print(a)\n",
    "print(b)\n",
    "print(resto)"
   ]
  },
  {
   "cell_type": "markdown",
   "id": "based-florida",
   "metadata": {},
   "source": [
    "## Para terminar, volvemos a enfatizar un matiz importante ...\n",
    "\n",
    "> **En Python todo son objetos**\n",
    "\n",
    "Cada objeto tiene:\n",
    "\n",
    "* **Identidad**: Nunca cambia una vez creado. Es como la dirección de memoria. Operador **is** compara identidad. Función **id()** devuelve identidad.\n",
    "* **Tipo**: determina posibles valores y operaciones. Función **type()** devuelve el tipo. No cambia.\n",
    "* **Valor**: que pueden ser *mutables* e *inmutables*.\n",
    "\n",
    "   * Tipos mutables: list, dictionary, set y tipos definidos por el usuario.\n",
    "   * Tipos inmutables: int, float, bool, string y tuple."
   ]
  },
  {
   "cell_type": "markdown",
   "id": "worldwide-heritage",
   "metadata": {},
   "source": [
    "#### Ejemplos para ilustrar mutabilidad vs inmutabilidad"
   ]
  },
  {
   "cell_type": "code",
   "execution_count": null,
   "id": "lined-protocol",
   "metadata": {},
   "outputs": [],
   "source": [
    "# Asignación\n",
    "\n",
    "list_numbers = [1, 2, 3]  # Lista (mutable)\n",
    "tuple_numbers = (1, 2, 3) # Tupla (inmutable)\n",
    "\n",
    "print(list_numbers[0])\n",
    "print(tuple_numbers[0])\n",
    "\n",
    "list_numbers[0] = 100\n",
    "#tuple_numbers[0] = 100 \n",
    "\n",
    "print(list_numbers)\n",
    "print(tuple_numbers)"
   ]
  },
  {
   "cell_type": "code",
   "execution_count": null,
   "id": "superb-physiology",
   "metadata": {},
   "outputs": [],
   "source": [
    "# Identidad\n",
    "\n",
    "list_numbers = [1, 2, 3] \n",
    "tuple_numbers = (1, 2, 3)\n",
    "\n",
    "print('Id list_numbers:  ' + str(id(list_numbers)))\n",
    "print('Id tuple_numbers: ' + str(id(tuple_numbers)))\n",
    "\n",
    "list_numbers += [4, 5, 6]  # La lista original se extiende\n",
    "tuple_numbers += (4, 5, 6) # Se crea un nuevo objeto\n",
    "\n",
    "print(list_numbers)\n",
    "print(tuple_numbers)\n",
    "\n",
    "print('Id list_numbers:  ' + str(id(list_numbers)))\n",
    "print('Id tuple_numbers: ' + str(id(tuple_numbers)))"
   ]
  },
  {
   "cell_type": "code",
   "execution_count": null,
   "id": "excess-clinton",
   "metadata": {},
   "outputs": [],
   "source": [
    "# Referencias\n",
    "\n",
    "list_numbers = [1, 2, 3]\n",
    "list_numbers_2 = list_numbers  # list_numbers_2 referencia a list_numbers\n",
    "\n",
    "print('Id list_numbers:  ' + str(id(list_numbers)))\n",
    "print('Id list_numbers_2:  ' + str(id(list_numbers_2)))\n",
    "\n",
    "list_numbers.append(4) # Se actualiza list_numbers2 también\n",
    "\n",
    "print(list_numbers)\n",
    "print(list_numbers_2)\n",
    "\n",
    "print('Id list_numbers:  ' + str(id(list_numbers)))\n",
    "print('Id list_numbers_2:  ' + str(id(list_numbers_2)))"
   ]
  },
  {
   "cell_type": "code",
   "execution_count": null,
   "id": "technical-faith",
   "metadata": {},
   "outputs": [],
   "source": [
    "text = \"Hola\" # Inmutable\n",
    "text_2 = text  # Referencia\n",
    "\n",
    "print('Id text:  ' + str(id(text)))\n",
    "print('Id text_2:  ' + str(id(text_2)))\n",
    "\n",
    "text += \" Mundo\"\n",
    "\n",
    "print(text)\n",
    "print(text_2)\n",
    "\n",
    "print('Id text:  ' + str(id(text)))\n",
    "print('Id text_2:  ' + str(id(text_2)))"
   ]
  },
  {
   "cell_type": "code",
   "execution_count": null,
   "id": "dietary-jacksonville",
   "metadata": {
    "tags": []
   },
   "outputs": [],
   "source": [
    "teams = [\"Team A\", \"Team B\", \"Team C\"] # Mutable\n",
    "player = (23, teams) # Inmutable\n",
    "\n",
    "print(type(player))\n",
    "print(player)\n",
    "print(id(player))\n",
    "\n",
    "teams[2] = \"Team J\"\n",
    "\n",
    "print(player)\n",
    "print(id(player))"
   ]
  }
 ],
 "metadata": {
  "kernelspec": {
   "display_name": "Python 3",
   "language": "python",
   "name": "python3"
  },
  "language_info": {
   "codemirror_mode": {
    "name": "ipython",
    "version": 3
   },
   "file_extension": ".py",
   "mimetype": "text/x-python",
   "name": "python",
   "nbconvert_exporter": "python",
   "pygments_lexer": "ipython3",
   "version": "3.10.11"
  },
  "vscode": {
   "interpreter": {
    "hash": "aee8b7b246df8f9039afb4144a1f6fd8d2ca17a180786b69acc140d282b71a49"
   }
  }
 },
 "nbformat": 4,
 "nbformat_minor": 5
}
