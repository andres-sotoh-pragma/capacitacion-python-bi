{
 "cells": [
  {
   "cell_type": "markdown",
   "id": "still-federation",
   "metadata": {},
   "source": [
    "# Estructuras de datos avanzadas"
   ]
  },
  {
   "cell_type": "markdown",
   "id": "mature-softball",
   "metadata": {},
   "source": [
    "Estructuras de datos básicas:\n",
    "\n",
    "* Listas.\n",
    "* Diccionarios.\n",
    "* Conjuntos (sets).\n",
    "* Tuplas."
   ]
  },
  {
   "cell_type": "markdown",
   "id": "ideal-seven",
   "metadata": {},
   "source": [
    "En esta sección veremos:\n",
    "\n",
    "* Array.\n",
    "* 2D Array.\n",
    "* Lista enlazada (linked list).\n",
    "* Pila (stack).\n",
    "* Cola (queue).\n",
    "* Cola de prioridad (heap).\n",
    "* Tabla Hash.\n",
    "* Grafo.\n",
    "\n",
    "> Es importante elegir estructura de datos en base a qué operaciones queremos que se ejecuten de manera eficiente."
   ]
  },
  {
   "cell_type": "markdown",
   "id": "official-upgrade",
   "metadata": {},
   "source": [
    "Antes de empezar, una versión más avanzada de las listas convencionales:"
   ]
  },
  {
   "cell_type": "markdown",
   "id": "unlike-institute",
   "metadata": {},
   "source": [
    "## List Comprehensions"
   ]
  },
  {
   "cell_type": "markdown",
   "id": "commercial-outside",
   "metadata": {},
   "source": [
    "Formato general (**versión simplicada**):\n",
    "\n",
    "```\n",
    "[<expression> for <item> in <iterable>]\n",
    "```"
   ]
  },
  {
   "cell_type": "markdown",
   "id": "demonstrated-tragedy",
   "metadata": {},
   "source": [
    "* Permiten construir listas a través de la ejecución repetida (sentencia *for*) de una expressión para cada item de un objeto iterable.\n",
    "* Van entre '[' y ']'. Esto es indicativo de que estamos construyendo una lista."
   ]
  },
  {
   "cell_type": "markdown",
   "id": "straight-title",
   "metadata": {},
   "source": [
    "Ejemplo: repetir los carácteres de un string."
   ]
  },
  {
   "cell_type": "code",
   "execution_count": null,
   "id": "brilliant-title",
   "metadata": {},
   "outputs": [],
   "source": [
    "[c * 2 for c in 'Enrique']"
   ]
  },
  {
   "cell_type": "markdown",
   "id": "extended-married",
   "metadata": {},
   "source": [
    "* Comúnmente, el item de la sentencia *for* aparecerá en la expresión principal, pero eso no es obligatorio."
   ]
  },
  {
   "cell_type": "code",
   "execution_count": null,
   "id": "absolute-nicholas",
   "metadata": {},
   "outputs": [],
   "source": [
    "[2 for c in 'Enrique']"
   ]
  },
  {
   "cell_type": "markdown",
   "id": "natural-period",
   "metadata": {},
   "source": [
    "* Se puede especificar un filtro (sentencia *if*) para obtener únicamente los elementos que cumplan cierta condición.\n",
    "\n",
    "Formato general (**versión extendida**):\n",
    "\n",
    "```\n",
    "[<expression> for <item> in <iterable> if <condition>]\n",
    "```"
   ]
  },
  {
   "cell_type": "markdown",
   "id": "durable-prairie",
   "metadata": {},
   "source": [
    "Ejemplo: obtener números pares:"
   ]
  },
  {
   "cell_type": "code",
   "execution_count": null,
   "id": "fatty-asthma",
   "metadata": {},
   "outputs": [],
   "source": [
    "[x for x in range(9) if x % 2 == 0]"
   ]
  },
  {
   "cell_type": "markdown",
   "id": "defensive-governor",
   "metadata": {},
   "source": [
    "* Las list comprehension no son realmente requeridas, ya que siempre podemos escribir un bucle equivalente."
   ]
  },
  {
   "cell_type": "code",
   "execution_count": null,
   "id": "blessed-northwest",
   "metadata": {},
   "outputs": [],
   "source": [
    "pares = []\n",
    "for x in range(9):\n",
    "    if(x % 2 == 0):\n",
    "        pares.append(x)\n",
    "    \n",
    "print(pares)"
   ]
  },
  {
   "cell_type": "markdown",
   "id": "suburban-intake",
   "metadata": {
    "tags": []
   },
   "source": [
    "* La sentencia *if* de una list comprehension también puede contener una expresión alternativa.\n",
    "\n",
    "Formato general (**versión completa**):\n",
    "\n",
    "```\n",
    "[<expression_1> if <condition> else <expression_2> for <item> in <iterable>]\n",
    "```\n",
    "\n",
    "Ejemplo: poner a cero los números pares."
   ]
  },
  {
   "cell_type": "code",
   "execution_count": null,
   "id": "labeled-eleven",
   "metadata": {
    "tags": []
   },
   "outputs": [],
   "source": [
    "[0 if x % 2 == 0 else x for x in range(9)]"
   ]
  },
  {
   "cell_type": "markdown",
   "id": "static-freeware",
   "metadata": {},
   "source": [
    "* Principales ventajas de las comprehensions en comparación a un bucle convencional:\n",
    "\n",
    "    * Expresión compacta y legible, si estás familiarizado con la sintaxis.\n",
    "    * Mejor rendimiento.\n",
    "\n",
    "\n",
    "* Desventaja: rápidamente se puede convertir en una expresión difícil de entender."
   ]
  },
  {
   "cell_type": "markdown",
   "id": "compliant-slovak",
   "metadata": {},
   "source": [
    "## Array"
   ]
  },
  {
   "cell_type": "markdown",
   "id": "considerable-exhaust",
   "metadata": {},
   "source": [
    "* Estructura contigua de memoria.\n",
    "* Las *listas* de Python están implementas como arrays.\n",
    "* Acceso aleatorio rápido a través de un índice.\n",
    "    * Dirección de memoria + offset."
   ]
  },
  {
   "cell_type": "markdown",
   "id": "meaning-toddler",
   "metadata": {},
   "source": [
    "<img src=\"img/EstructurasDatos/Array.png\" width=\"800\">"
   ]
  },
  {
   "cell_type": "code",
   "execution_count": null,
   "id": "prepared-fortune",
   "metadata": {},
   "outputs": [],
   "source": [
    "array = [0, 0, 0, 0, 0]\n",
    "array[1] = 3\n",
    "print(array)"
   ]
  },
  {
   "cell_type": "markdown",
   "id": "weird-smooth",
   "metadata": {},
   "source": [
    "## 2D Array"
   ]
  },
  {
   "cell_type": "markdown",
   "id": "worldwide-share",
   "metadata": {},
   "source": [
    "* Estructura contigua de memoria.\n",
    "* Es un array de arrays.\n",
    "* Sirve para representación de *matrices*. Por lo tanto, puede verse como una tabla, con sus filas y columnas.\n",
    "* Acceso aleatorio rápido a través de 2 índices."
   ]
  },
  {
   "cell_type": "markdown",
   "id": "domestic-situation",
   "metadata": {},
   "source": [
    "<img src=\"img/EstructurasDatos/2DArray.png\" width=\"900\">"
   ]
  },
  {
   "cell_type": "markdown",
   "id": "neither-aerospace",
   "metadata": {},
   "source": [
    "Ejemplo: registros de temperatura por día."
   ]
  },
  {
   "cell_type": "code",
   "execution_count": null,
   "id": "cardiovascular-correspondence",
   "metadata": {},
   "outputs": [],
   "source": [
    "registros = [[10, 13, 16, 11], [5, 6, 8, 6], [11, 11, 12, 12], [7, 11, 16, 15]]\n",
    "print(registros[1][2]) #  Tercer registro del segundo día"
   ]
  },
  {
   "cell_type": "code",
   "execution_count": null,
   "id": "matched-allergy",
   "metadata": {},
   "outputs": [],
   "source": [
    "# Mostrar todos los registros\n",
    "for dia in registros:\n",
    "    for registro in dia:\n",
    "        print(registro, end = \" \")\n",
    "    print()"
   ]
  },
  {
   "cell_type": "markdown",
   "id": "bridal-empty",
   "metadata": {},
   "source": [
    "## Lista enlazada (Linked list)"
   ]
  },
  {
   "cell_type": "markdown",
   "id": "planned-clearance",
   "metadata": {},
   "source": [
    "* Similar a los arrays, pero los elementos no están en posiciones contiguas de memoria.\n",
    "* Cada elemento es un nodo que contiene dos partes:\n",
    "    * Un dato.\n",
    "    * Un enlace al siguiente nodo de la lista.\n",
    "* No permite acceso aleatorio en base a un índice.\n",
    "* Inserciones y borrados más rápidos que en un array."
   ]
  },
  {
   "cell_type": "markdown",
   "id": "vanilla-relief",
   "metadata": {},
   "source": [
    "<img src=\"img/EstructurasDatos/LinkedList.png\" width=\"600\">"
   ]
  },
  {
   "cell_type": "markdown",
   "id": "further-creek",
   "metadata": {},
   "source": [
    "Implementación a través de *deque* (double-ended queue)."
   ]
  },
  {
   "cell_type": "code",
   "execution_count": null,
   "id": "starting-finnish",
   "metadata": {},
   "outputs": [],
   "source": [
    "from collections import deque\n",
    "\n",
    "linked_list = deque('abcd')\n",
    "print(linked_list)\n",
    "\n",
    "linked_list.append('e')\n",
    "print(linked_list)\n",
    "\n",
    "linked_list.remove('b')\n",
    "print(linked_list)"
   ]
  },
  {
   "cell_type": "markdown",
   "id": "final-fortune",
   "metadata": {
    "tags": []
   },
   "source": [
    "## Pila (Stack)"
   ]
  },
  {
   "cell_type": "markdown",
   "id": "connected-tongue",
   "metadata": {},
   "source": [
    "* Almacena items en orden Last-In/First-Out (LIFO).\n",
    "* Es decir, los items se extraen en orden contrario al orden de inserción.\n",
    "* Ejemplo de caso de uso: funcionalidad deshacer."
   ]
  },
  {
   "cell_type": "markdown",
   "id": "accompanied-honduras",
   "metadata": {},
   "source": [
    "<img src=\"img/EstructurasDatos/Stack.png\" width=\"800\">"
   ]
  },
  {
   "cell_type": "markdown",
   "id": "metropolitan-publication",
   "metadata": {},
   "source": [
    "Hay varias opciones de implementación"
   ]
  },
  {
   "cell_type": "markdown",
   "id": "juvenile-circular",
   "metadata": {},
   "source": [
    "#### Pilas usando Listas"
   ]
  },
  {
   "cell_type": "markdown",
   "id": "established-saint",
   "metadata": {},
   "source": [
    "* *Push* con método *append*."
   ]
  },
  {
   "cell_type": "code",
   "execution_count": null,
   "id": "biblical-candle",
   "metadata": {},
   "outputs": [],
   "source": [
    "pila = []\n",
    "\n",
    "pila.append('a')\n",
    "pila.append('b')\n",
    "pila.append('c')\n",
    "\n",
    "print(pila)\n",
    "\n",
    "print(pila.pop())\n",
    "print(pila.pop())\n",
    "print(pila.pop())\n",
    "\n",
    "print(pila)"
   ]
  },
  {
   "cell_type": "markdown",
   "id": "polish-render",
   "metadata": {},
   "source": [
    "* Las listas están implementadas como un *array*.\n",
    "* Dado que los arrays son bloques de memoria contiguos, la operación *push* puede ocasionalmente tener un coste elevado.\n",
    "   * Esto es porque el array puede haberse quedado sin espacio. En este caso, Python internamente crea uno nuevo (más grande) y transfiere todos los elementos."
   ]
  },
  {
   "cell_type": "markdown",
   "id": "smooth-violin",
   "metadata": {},
   "source": [
    "#### Pilas usando Deque"
   ]
  },
  {
   "cell_type": "code",
   "execution_count": null,
   "id": "helpful-amino",
   "metadata": {},
   "outputs": [],
   "source": [
    "from collections import deque\n",
    "pila = deque()\n",
    "\n",
    "pila.append('a')\n",
    "pila.append('b')\n",
    "pila.append('c')\n",
    "\n",
    "print(pila)\n",
    "\n",
    "print(pila.pop())\n",
    "print(pila.pop())\n",
    "print(pila.pop())\n",
    "\n",
    "print(pila)"
   ]
  },
  {
   "cell_type": "markdown",
   "id": "voluntary-childhood",
   "metadata": {},
   "source": [
    "* *Deque* está implementada como *lista enlazada*.\n",
    "* La operación *pop* siempre tiene coste bajo.\n",
    "* Para implementar una pila, *deque* es más apropiado."
   ]
  },
  {
   "cell_type": "markdown",
   "id": "revolutionary-congo",
   "metadata": {},
   "source": [
    "## Cola (Queue)"
   ]
  },
  {
   "cell_type": "markdown",
   "id": "reported-penny",
   "metadata": {},
   "source": [
    "* Almacena items en orden First-In/First-Out (FIFO).\n",
    "* Es decir, los items se extraen en orden de inserción.\n",
    "* Ejemplo de caso de uso: jobs de una impresora."
   ]
  },
  {
   "cell_type": "markdown",
   "id": "pharmaceutical-bruce",
   "metadata": {},
   "source": [
    "<img src=\"img/EstructurasDatos/Queue.png\" width=\"800\">"
   ]
  },
  {
   "cell_type": "markdown",
   "id": "radio-arcade",
   "metadata": {},
   "source": [
    "#### Colas usando Deque"
   ]
  },
  {
   "cell_type": "markdown",
   "id": "spare-librarian",
   "metadata": {},
   "source": [
    "* *Enqueue* implementada como *append* y *dequeue* como *popleft*.\n",
    "* *Deque* está implementada como *lista enlazada*.\n",
    "* Ambas operaciones de las colas siempre tienen un coste bajo.\n",
    "* Es muy mala idea implementar colas usando listas de Python (arrays), ya que una de las operaciones requerirá desplazar todos los elementos."
   ]
  },
  {
   "cell_type": "code",
   "execution_count": null,
   "id": "reasonable-hearts",
   "metadata": {},
   "outputs": [],
   "source": [
    "from collections import deque\n",
    "\n",
    "q = deque()\n",
    "q.append(1)\n",
    "q.append(2)\n",
    "q.append(3)\n",
    "\n",
    "print(q)\n",
    "\n",
    "print(q.popleft())\n",
    "print(q.popleft())\n",
    "print(q.popleft())\n",
    "\n",
    "print(q)"
   ]
  },
  {
   "cell_type": "markdown",
   "id": "precise-speaking",
   "metadata": {},
   "source": [
    "## Cola de prioridad (heaps)"
   ]
  },
  {
   "cell_type": "markdown",
   "id": "systematic-mention",
   "metadata": {},
   "source": [
    "* Es como una cola, pero en lugar de extraer por orden de inserción, se extrae por orden de prioridad (en base a algún criterio de ordenación).\n",
    "* Ejemplo de caso de uso: lista de tareas, donde quieres ir abordando la más urgente.\n",
    "\n",
    "\n",
    "* Operaciones:\n",
    "    * *insert*: inserta un elemento en la cola de prioridad.\n",
    "    * *extract min/max*: extrae el elemento de mayor prioridad."
   ]
  },
  {
   "cell_type": "markdown",
   "id": "eligible-foster",
   "metadata": {},
   "source": [
    "#### Colas de prioridad usando Heapq"
   ]
  },
  {
   "cell_type": "markdown",
   "id": "surgical-lindsay",
   "metadata": {},
   "source": [
    "* Implementación basada en *array*.\n",
    "* En [este enlace](https://realpython.com/python-heapq-module/) podéis encontrar detalles de cómo se implementan colas de prioridad por medio de arrays."
   ]
  },
  {
   "cell_type": "code",
   "execution_count": null,
   "id": "attempted-singing",
   "metadata": {},
   "outputs": [],
   "source": [
    "import heapq\n",
    "\n",
    "cola_prioridad = [3, 1, 9, 5]\n",
    "print('Array original:', cola_prioridad)\n",
    "heapq.heapify(cola_prioridad)\n",
    "print('Tras heapify:', cola_prioridad)\n",
    "\n",
    "heapq.heappush(cola_prioridad, 4)     # Insert\n",
    "print('Tras insertar 4: ', cola_prioridad)\n",
    "\n",
    "print('Pop devuelve:', heapq.heappop(cola_prioridad))  # Extract min\n",
    "print('Tras pop:', cola_prioridad)\n",
    "\n",
    "print('Pop devuelve:', heapq.heappop(cola_prioridad))  # Extract min\n",
    "print('Tras pop:', cola_prioridad)\n",
    "\n",
    "print('Pop devuelve:', heapq.heappop(cola_prioridad))  # Extract min\n",
    "print('Tras pop:', cola_prioridad)\n",
    "\n",
    "print('Pop devuelve:', heapq.heappop(cola_prioridad))  # Extract min\n",
    "print('Tras pop:', cola_prioridad)\n",
    "\n",
    "print('Pop devuelve:', heapq.heappop(cola_prioridad))  # Extract min\n",
    "print('Tras pop:', cola_prioridad)"
   ]
  },
  {
   "cell_type": "markdown",
   "id": "pacific-chase",
   "metadata": {},
   "source": [
    "## Tabla Hash"
   ]
  },
  {
   "cell_type": "markdown",
   "id": "brazilian-exploration",
   "metadata": {},
   "source": [
    "* Un array convencional + una función hash que determina el índice de cada elemento.\n",
    "* Aprovecha el acceso aleatorio de los arrays para soportar búsquedas muy eficientes.\n",
    "* Resolución de colisiones.\n",
    "    * Open addressing.\n",
    "    * Separate chaining."
   ]
  },
  {
   "cell_type": "markdown",
   "id": "fuzzy-school",
   "metadata": {},
   "source": [
    "<img src=\"img/EstructurasDatos/TablaHash.png\" width=\"600\">"
   ]
  },
  {
   "cell_type": "markdown",
   "id": "satellite-resort",
   "metadata": {},
   "source": [
    "Los conjuntos (sets) y diccionarios de Python se implementan como una Tabla Hash.\n",
    "\n",
    "Ejemplo: mantener registro de personas que han acudido a un evento."
   ]
  },
  {
   "cell_type": "code",
   "execution_count": null,
   "id": "solar-julian",
   "metadata": {},
   "outputs": [],
   "source": [
    "personas = set()\n",
    "\n",
    "personas.add('Pablo Gil')\n",
    "personas.add('Jose Perez')\n",
    "personas.add('Beatriz Rodriguez')\n",
    "\n",
    "print(personas)\n",
    "\n",
    "print('Pablo Gil' in personas)\n",
    "print('Sofia Navarro' in personas)"
   ]
  },
  {
   "cell_type": "markdown",
   "id": "committed-today",
   "metadata": {},
   "source": [
    "## Grafo"
   ]
  },
  {
   "cell_type": "markdown",
   "id": "sexual-plate",
   "metadata": {},
   "source": [
    "* Permiten representar redes (nodos relacionados entre sí por medio de aristas).\n",
    "* Características:\n",
    "    * Dirigidos vs no dirigidos.\n",
    "    * Ponderados vs no ponderados.\n",
    "* Gran multitud de aplicaciones: los nodos pueden representar cualquier cosa que sea de interés para nuestra aplicación."
   ]
  },
  {
   "cell_type": "markdown",
   "id": "painted-april",
   "metadata": {},
   "source": [
    "<img src=\"img/EstructurasDatos/Graph.png\" width=\"900\">"
   ]
  },
  {
   "cell_type": "markdown",
   "id": "specified-fairy",
   "metadata": {},
   "source": [
    "Ejemplo: Camino más cortos ([Algoritmo de Dijkstra](https://es.wikipedia.org/wiki/Algoritmo_de_Dijkstra))."
   ]
  },
  {
   "cell_type": "markdown",
   "id": "innovative-helena",
   "metadata": {},
   "source": [
    "#### Implementación por medio de Lista de Adyacencia"
   ]
  },
  {
   "cell_type": "markdown",
   "id": "future-yemen",
   "metadata": {},
   "source": [
    "* Una lista de listas enlazadas donde cada nodo del grafo se almacena junto a los vertices adyacentes."
   ]
  },
  {
   "cell_type": "code",
   "execution_count": null,
   "id": "attended-commodity",
   "metadata": {},
   "outputs": [],
   "source": [
    "grafo = {\n",
    "    1 : [2, 3],\n",
    "    2 : [5],\n",
    "    3 : [5],\n",
    "    4 : [6],\n",
    "    5 : [4, 6],\n",
    "    6 : []\n",
    "}\n",
    "\n",
    "print(grafo)"
   ]
  },
  {
   "cell_type": "markdown",
   "id": "numerous-rebecca",
   "metadata": {},
   "source": [
    "Mostrar los nodos de un grafo:"
   ]
  },
  {
   "cell_type": "code",
   "execution_count": null,
   "id": "subject-velvet",
   "metadata": {},
   "outputs": [],
   "source": [
    "print(list(grafo.keys()))"
   ]
  },
  {
   "cell_type": "markdown",
   "id": "educated-pathology",
   "metadata": {},
   "source": [
    "Añadir nuevo nodo a un grafo:"
   ]
  },
  {
   "cell_type": "code",
   "execution_count": null,
   "id": "innovative-growing",
   "metadata": {},
   "outputs": [],
   "source": [
    "def anyadir_nodo(nodo):\n",
    "    if nodo not in grafo:\n",
    "        grafo[nodo] = []\n",
    "\n",
    "anyadir_nodo(7)\n",
    "print(grafo)"
   ]
  },
  {
   "cell_type": "markdown",
   "id": "precise-advertising",
   "metadata": {},
   "source": [
    "Añadir nueva arista:"
   ]
  },
  {
   "cell_type": "code",
   "execution_count": null,
   "id": "interesting-exclusive",
   "metadata": {},
   "outputs": [],
   "source": [
    "def anyadir_arista(nodo_origen, nodo_destino):\n",
    "    if nodo_origen in grafo and nodo_destino not in grafo[nodo_origen]:\n",
    "        grafo[nodo_origen].insert(0, nodo_destino)\n",
    "        \n",
    "anyadir_arista(6, 7)\n",
    "print(grafo)"
   ]
  }
 ],
 "metadata": {
  "kernelspec": {
   "display_name": "Python 3",
   "language": "python",
   "name": "python3"
  },
  "language_info": {
   "codemirror_mode": {
    "name": "ipython",
    "version": 3
   },
   "file_extension": ".py",
   "mimetype": "text/x-python",
   "name": "python",
   "nbconvert_exporter": "python",
   "pygments_lexer": "ipython3",
   "version": "3.9.2"
  }
 },
 "nbformat": 4,
 "nbformat_minor": 5
}
