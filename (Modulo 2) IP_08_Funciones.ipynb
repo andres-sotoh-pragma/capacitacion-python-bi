{
 "cells": [
  {
   "cell_type": "markdown",
   "id": "under-drama",
   "metadata": {},
   "source": [
    "# Funciones"
   ]
  },
  {
   "cell_type": "markdown",
   "id": "bright-nothing",
   "metadata": {},
   "source": [
    "## ¿Qué son?\n",
    "\n",
    "* Son un mecanismo que te ofrece el lenguaje para agrupar conjuntos de instrucciones de manera que se puedan ejecutar cuando el programador considere oportuno.\n",
    "* Las funciones van identificadas por un nombre.\n",
    "* Se debe usar este nombre para invocar (ejecutar) el código de la función.\n",
    "* Las funciones calculan un resultado (output) en base a unos parámetros de entrada (input).\n",
    "* En cada invocación de la función, los parámetros de entrada pueden variar."
   ]
  },
  {
   "cell_type": "markdown",
   "id": "alternate-highland",
   "metadata": {},
   "source": [
    "## Ejemplo"
   ]
  },
  {
   "cell_type": "code",
   "execution_count": null,
   "id": "fundamental-department",
   "metadata": {},
   "outputs": [],
   "source": [
    "def sumar(x,y):\n",
    "    return x + y\n",
    "\n",
    "print(sumar(4,5))"
   ]
  },
  {
   "cell_type": "markdown",
   "id": "textile-championship",
   "metadata": {},
   "source": [
    "## ¿Qué ventajas nos proporcionan?\n",
    "\n",
    "* Eliminación de duplicación de código.\n",
    "* Incremento de la reutilización de código.\n",
    "* Manejo de complejidad: permiten descomponer grandes sistemas en piezas más pequeñas y, por tanto, más manejables y comprensibles."
   ]
  },
  {
   "cell_type": "markdown",
   "id": "referenced-bankruptcy",
   "metadata": {},
   "source": [
    "## Programación de funciones en Python"
   ]
  },
  {
   "cell_type": "markdown",
   "id": "geological-mechanics",
   "metadata": {},
   "source": [
    "Las funciones se definen por medio de la palabra clave *def*.\n",
    "\n",
    "Formato general:\n",
    "\n",
    "```\n",
    "def name(arg1, arg2, ..., argN):\n",
    "    statements\n",
    "```\n",
    "\n",
    "Muy comúnmente:\n",
    "\n",
    "```\n",
    "def name(arg1, arg2, ..., argN):\n",
    "    ...\n",
    "    return value\n",
    "```"
   ]
  },
  {
   "cell_type": "markdown",
   "id": "logical-papua",
   "metadata": {},
   "source": [
    "* Las funciones son instrucciones convencionales, que se ejecutan cuando el flujo de control llega a ellas.\n",
    "* La definición de la función debe ejecutarse antes de poder invocarse la función."
   ]
  },
  {
   "cell_type": "code",
   "execution_count": null,
   "id": "complimentary-snowboard",
   "metadata": {},
   "outputs": [],
   "source": [
    "# Primero, definición.\n",
    "def crear_diccionario(keys, values):\n",
    "    return dict(zip(keys, values))\n",
    "\n",
    "# Después, invocación.\n",
    "nombres = ['Alfred', 'James', 'Peter', 'Harvey']\n",
    "edades = [87, 43, 19, 16]\n",
    "usuarios = crear_diccionario(nombres, edades)\n",
    "print(usuarios)"
   ]
  },
  {
   "cell_type": "markdown",
   "id": "eastern-american",
   "metadata": {},
   "source": [
    "* Las funciones pueden estar anidadas en sentencias condicionales o bucles. "
   ]
  },
  {
   "cell_type": "code",
   "execution_count": null,
   "id": "transparent-farming",
   "metadata": {},
   "outputs": [],
   "source": [
    "a = 1\n",
    "#a = -1\n",
    "\n",
    "if a > 0:\n",
    "    def operacion(x, y):\n",
    "        return x + y\n",
    "else:\n",
    "    def operacion(x, y):\n",
    "        return x * y\n",
    "    \n",
    "print(operacion(3, 4))"
   ]
  },
  {
   "cell_type": "markdown",
   "id": "informed-oriental",
   "metadata": {},
   "source": [
    "* Argumentos y return son opcionales."
   ]
  },
  {
   "cell_type": "code",
   "execution_count": null,
   "id": "tight-ottawa",
   "metadata": {
    "tags": []
   },
   "outputs": [],
   "source": [
    "def print_hola_mundo():\n",
    "    print('Hola Mundo')\n",
    "\n",
    "print_hola_mundo()"
   ]
  },
  {
   "cell_type": "markdown",
   "id": "celtic-battlefield",
   "metadata": {},
   "source": [
    "* Cuando una función no tiene sentencia *return*, la función devuelve el objeto *None*."
   ]
  },
  {
   "cell_type": "code",
   "execution_count": null,
   "id": "fuzzy-distinction",
   "metadata": {},
   "outputs": [],
   "source": [
    "def print_hola_mundo():\n",
    "    print('Hola Mundo')\n",
    "\n",
    "valor = print_hola_mundo()\n",
    "print(valor)"
   ]
  },
  {
   "cell_type": "markdown",
   "id": "shaped-removal",
   "metadata": {},
   "source": [
    "* La sentencia *return* puede aparecer en cualquier parte de la función."
   ]
  },
  {
   "cell_type": "code",
   "execution_count": null,
   "id": "amateur-metabolism",
   "metadata": {},
   "outputs": [],
   "source": [
    "def devolver_algo(x):\n",
    "    if x > 0:\n",
    "        return 'Hola'\n",
    "    return 'Mundo'\n",
    "\n",
    "print(devolver_algo(1))"
   ]
  },
  {
   "cell_type": "markdown",
   "id": "standing-software",
   "metadata": {},
   "source": [
    "* Puede haber más de un valor de retorno. Se devuelve una tupla."
   ]
  },
  {
   "cell_type": "code",
   "execution_count": null,
   "id": "marked-shanghai",
   "metadata": {},
   "outputs": [],
   "source": [
    "def devolver_primero_segundo(coleccion):\n",
    "    return coleccion[0], coleccion[1]\n",
    "\n",
    "t = devolver_primero_segundo(['Alfred', 'James', 'Peter', 'Harvey'])\n",
    "print(t)\n",
    "print(type(t))"
   ]
  },
  {
   "cell_type": "code",
   "execution_count": null,
   "id": "young-punishment",
   "metadata": {},
   "outputs": [],
   "source": [
    "primero, segundo = devolver_primero_segundo(['Alfred', 'James', 'Peter', 'Harvey'])\n",
    "print(primero)\n",
    "print(segundo)"
   ]
  },
  {
   "cell_type": "markdown",
   "id": "further-enough",
   "metadata": {},
   "source": [
    "* Los argumentos pueden tener valores por defecto, siempre al final."
   ]
  },
  {
   "cell_type": "code",
   "execution_count": null,
   "id": "romance-headline",
   "metadata": {},
   "outputs": [],
   "source": [
    "def f(a = None, b = None, c = None):\n",
    "    if a is not None:\n",
    "        print('Se ha proporcionado a')\n",
    "    if b is not None:\n",
    "        print('Se ha proporcionado b')\n",
    "    if c is not None:\n",
    "        print('Se ha proporcionado c')\n",
    "        \n",
    "f(1, 'hola')"
   ]
  },
  {
   "cell_type": "markdown",
   "id": "opponent-automation",
   "metadata": {},
   "source": [
    "* Los parámetros se pasan por posición, pero el orden se puede alterar si se especifica el nombre del parámetro en la llamada."
   ]
  },
  {
   "cell_type": "code",
   "execution_count": null,
   "id": "sporting-stereo",
   "metadata": {},
   "outputs": [],
   "source": [
    "def power(base, exponente):\n",
    "    return pow(base, exponente)\n",
    "\n",
    "print(power(2,4))\n",
    "print(power(exponente = 4, base = 2))"
   ]
  },
  {
   "cell_type": "markdown",
   "id": "musical-river",
   "metadata": {},
   "source": [
    "* Al ejecutarse una sentencia *def*, se crea un **objeto de tipo función** y éste se asocia con el nombre especificado para la función.\n",
    "* Un objeto de tipo función es como cualquier otro tipo de objeto.\n",
    "* Variables pueden referenciar objetos de tipo función."
   ]
  },
  {
   "cell_type": "code",
   "execution_count": null,
   "id": "talented-boutique",
   "metadata": {},
   "outputs": [],
   "source": [
    "def sumar(x, y):\n",
    "    return x + y\n",
    "\n",
    "f = sumar\n",
    "\n",
    "print(type(f))\n",
    "print(f(5,6))"
   ]
  },
  {
   "cell_type": "markdown",
   "id": "illegal-aggregate",
   "metadata": {},
   "source": [
    "* Se pueden crear placeholders con la palabra clave *pass*.\n",
    "* *pass* representa una sentencia que no hace nada.\n",
    "* Útil cuando la sintaxis del lenguaje requiere alguna sentencia, pero no tienes nada que escribir."
   ]
  },
  {
   "cell_type": "code",
   "execution_count": null,
   "id": "capable-smart",
   "metadata": {},
   "outputs": [],
   "source": [
    "def mi_funcion():\n",
    "    pass\n",
    "\n",
    "mi_funcion()"
   ]
  },
  {
   "cell_type": "markdown",
   "id": "optional-penetration",
   "metadata": {},
   "source": [
    "## Paso de parámetros"
   ]
  },
  {
   "cell_type": "markdown",
   "id": "synthetic-savannah",
   "metadata": {
    "tags": []
   },
   "source": [
    "* Tipos simples (inmutables) por **valor**: int, float, string.\n",
    "    * El efecto es como si se creara una copia dentro de la función, aunque realmente no es esto lo que ocurre.\n",
    "    * Los cambios dentro de la función no afectan fuera."
   ]
  },
  {
   "cell_type": "code",
   "execution_count": null,
   "id": "embedded-prairie",
   "metadata": {},
   "outputs": [],
   "source": [
    "def cambiar_valor(x):\n",
    "    \n",
    "    x = 3\n",
    "    print('Dentro de la función:', x)  # x ahora referencia a un nuevo objeto (el 3), pero esto no afecta a la variable de fuera de la función, que sigue apuntando al 2.\n",
    "    return\n",
    "\n",
    "a = 2\n",
    "cambiar_valor(a)\n",
    "print('Fuera de la función:', a)"
   ]
  },
  {
   "cell_type": "markdown",
   "id": "proud-torture",
   "metadata": {},
   "source": [
    "* Tipos complejos (mutables) por **referencia**: list, set, dictionary.\n",
    "    * Dentro de la función se maneja el mismo objeto que se ha pasado desde fuera.\n",
    "    * Los cambios dentro de la función sí afectan fuera."
   ]
  },
  {
   "cell_type": "code",
   "execution_count": null,
   "id": "eastern-syria",
   "metadata": {},
   "outputs": [],
   "source": [
    "def anyadir_2_a(x):\n",
    "    x.append(2)\n",
    "    return\n",
    "    \n",
    "lista = [0, 1]\n",
    "anyadir_2_a(lista)\n",
    "print(lista)"
   ]
  },
  {
   "cell_type": "markdown",
   "id": "emerging-storm",
   "metadata": {},
   "source": [
    "* Si quiero modificar un objeto que es de un tipo básico, los cuales se pasan por valor, puedo simplemente devolver el resultado de la función y hacer una asignación:"
   ]
  },
  {
   "cell_type": "code",
   "execution_count": null,
   "id": "pursuant-weapon",
   "metadata": {},
   "outputs": [],
   "source": [
    "def multiplicar_por_2(x):\n",
    "    return x * 2\n",
    "\n",
    "a = 3\n",
    "a = multiplicar_por_2(a)\n",
    "print(a)"
   ]
  },
  {
   "cell_type": "markdown",
   "id": "metallic-nature",
   "metadata": {},
   "source": [
    "* Si quiero que no se modifique un objeto de un tipo complejo, los cuales se pasan por referencia, puedo pasar una copia a la función:"
   ]
  },
  {
   "cell_type": "code",
   "execution_count": null,
   "id": "subtle-three",
   "metadata": {},
   "outputs": [],
   "source": [
    "def anyadir_2_a(x):\n",
    "    x.append(2)\n",
    "    print('Dentro de la función: ', x)\n",
    "    \n",
    "lista = [0, 1]\n",
    "anyadir_2_a(lista.copy())\n",
    "print('Fuera de la función: ', lista)"
   ]
  },
  {
   "cell_type": "code",
   "execution_count": null,
   "id": "divided-depth",
   "metadata": {},
   "outputs": [],
   "source": [
    "# Alternativa para obtener una copia: slicing.\n",
    "lista = [0, 1]\n",
    "anyadir_2_a(lista[:])\n",
    "print('Fuera de la función: ', lista)"
   ]
  },
  {
   "cell_type": "markdown",
   "id": "demanding-ribbon",
   "metadata": {},
   "source": [
    "* Reasignar un parámetro nunca afecta al objeto de fuera:"
   ]
  },
  {
   "cell_type": "code",
   "execution_count": null,
   "id": "solved-budapest",
   "metadata": {},
   "outputs": [],
   "source": [
    "def funcion_poco_util(x):\n",
    "    x = [2, 3]\n",
    "    x.append(4)\n",
    "    \n",
    "lista = [0, 1]\n",
    "funcion_poco_util(lista)\n",
    "print(lista)"
   ]
  },
  {
   "cell_type": "markdown",
   "id": "collectible-damages",
   "metadata": {},
   "source": [
    "## Argumentos arbitrarios"
   ]
  },
  {
   "cell_type": "markdown",
   "id": "virtual-diagnosis",
   "metadata": {},
   "source": [
    "* No se sabe a priori cuantos elementos se reciben.\n",
    "* Se reciben como una tupla.\n",
    "* Los parámetros se especifican con el símbolo '*'."
   ]
  },
  {
   "cell_type": "code",
   "execution_count": null,
   "id": "functioning-headquarters",
   "metadata": {},
   "outputs": [],
   "source": [
    "def saludar(*names):\n",
    "    #print(type(names))\n",
    "    for name in names:\n",
    "        print(\"Hola \" + name)\n",
    "\n",
    "saludar(\"Manolo\",\"Pepe\", \"Luis\", \"Alex\") "
   ]
  },
  {
   "cell_type": "markdown",
   "id": "thermal-token",
   "metadata": {},
   "source": [
    "## Funciones Lambda"
   ]
  },
  {
   "cell_type": "markdown",
   "id": "placed-finance",
   "metadata": {},
   "source": [
    "* Es posible definir funciones anónimas (sin nombre).\n",
    "* Lambdas son expresiones; por lo tanto, puede aparecer en lugares donde una sentencia *def* no puede (por ejemplo, dentro de una lista o como parámetro de una función).\n",
    "* Útiles cuando se quiere pasar una función como argumento a otra."
   ]
  },
  {
   "cell_type": "markdown",
   "id": "homeless-museum",
   "metadata": {},
   "source": [
    "Formato general:\n",
    "\n",
    "```\n",
    "lambda <lista de argumentos> : <valor a retornar>\n",
    "```\n",
    "\n",
    "* Importante: *\\<valor a retornar\\>* no es un conjunto de instrucciones. Es simplemente una expresión *return* que omite esta palabra.\n",
    "* Las funciones definidas con *def* son más generales:\n",
    "    * Cualquier cosa que implementes en un lambda, lo puedes implementar como una función convencional con *def*, pero no viceversa."
   ]
  },
  {
   "cell_type": "code",
   "execution_count": null,
   "id": "automotive-scottish",
   "metadata": {},
   "outputs": [],
   "source": [
    "# Ejemplo: función suma.\n",
    "\n",
    "def suma(x, y, z):\n",
    "    return x + y + z\n",
    "\n",
    "print(suma(1, 2, 3))\n",
    "\n",
    "# Ejemplo: función suma como expresión lambda.\n",
    "\n",
    "suma2 = lambda x, y, z: x + y + z\n",
    "\n",
    "print(suma2(1, 2, 3))"
   ]
  },
  {
   "cell_type": "code",
   "execution_count": null,
   "id": "irish-brain",
   "metadata": {},
   "outputs": [],
   "source": [
    "# La funcion 'sort' puede recibir una función optional como parámetro.\n",
    "# Esta función 'key' se invoca para cada elemento de la lista antes de realizar las comparaciones.\n",
    "# Ejemplo: ordenar strings por número de carácteres.\n",
    "\n",
    "cities = ['Valencia', 'Lugo', 'Barcelona', 'Madrid']\n",
    "\n",
    "cities.sort()\n",
    "print(cities)\n",
    "\n",
    "cities.sort(key = lambda x : len(x))\n",
    "print(cities)"
   ]
  },
  {
   "cell_type": "code",
   "execution_count": null,
   "id": "critical-shoot",
   "metadata": {
    "tags": []
   },
   "outputs": [],
   "source": [
    "# Mismo ejemplo sin lambda\n",
    "\n",
    "cities = ['Valencia', 'Lugo', 'Barcelona', 'Madrid']\n",
    "\n",
    "def num_caracteres(x):\n",
    "    return len(x)\n",
    "\n",
    "cities.sort(key = num_caracteres)\n",
    "print(cities)"
   ]
  },
  {
   "cell_type": "markdown",
   "id": "looking-southwest",
   "metadata": {},
   "source": [
    "* Nos podemos guardar una referencia para utilización repetida."
   ]
  },
  {
   "cell_type": "code",
   "execution_count": null,
   "id": "clinical-clarity",
   "metadata": {
    "tags": []
   },
   "outputs": [],
   "source": [
    "cities = ['Valencia', 'Lugo', 'Barcelona', 'Madrid']\n",
    "\n",
    "f = lambda x : len(x)\n",
    "\n",
    "for s in cities:\n",
    "    print(f(s))"
   ]
  },
  {
   "cell_type": "markdown",
   "id": "european-repeat",
   "metadata": {},
   "source": [
    "* Las expresiones lambda pueden formar parte de una lista."
   ]
  },
  {
   "cell_type": "code",
   "execution_count": null,
   "id": "modified-aberdeen",
   "metadata": {},
   "outputs": [],
   "source": [
    "# Lista de lambdas para mostrar las potencias de 2.\n",
    "\n",
    "pows = [lambda x: x ** 0,\n",
    "        lambda x: x ** 1,\n",
    "        lambda x: x ** 2,\n",
    "        lambda x: x ** 3,\n",
    "        lambda x: x ** 4]\n",
    "\n",
    "for f in pows:\n",
    "    print(f(2))"
   ]
  },
  {
   "cell_type": "markdown",
   "id": "still-clark",
   "metadata": {},
   "source": [
    "## Scopes"
   ]
  },
  {
   "cell_type": "markdown",
   "id": "relative-genetics",
   "metadata": {},
   "source": [
    "* La localización de una asignación a una variable en el código determina desde donde puedes acceder a esa variable.\n",
    "* Por ejemplo, una variable asignada dentro de una función sólo es visible dentro de esa función.\n",
    "* El alcance de la visibilidad de una variable determina su *scope*.\n",
    "* El término *scope* hace referencia a un espacio de nombres (*namespace*). Por ejemplo, una función establece su propio *namespace*."
   ]
  },
  {
   "cell_type": "code",
   "execution_count": null,
   "id": "improved-failure",
   "metadata": {},
   "outputs": [],
   "source": [
    "X = 10\n",
    "\n",
    "def func():\n",
    "    X = 20   # Local a la función. Es una variable diferente, no visible fuera de 'func'."
   ]
  },
  {
   "cell_type": "markdown",
   "id": "confidential-review",
   "metadata": {},
   "source": [
    "#### Regla LEGB\n",
    "\n",
    "Dada una función *F*, tenemos los siguientes *scopes*:\n",
    "\n",
    "* **L**ocal: variables locales a *F*.\n",
    "* **E**nclosing: variables localizadas en funciones que contienen a (o por encima de) *F*.\n",
    "* **G**lobal: variables definidas en el módulo (fichero) que no están contenidas en ninguna función. Este scope no abarca más de un fichero.\n",
    "* **B**uilt-ins: proporcionadas por el lenguaje.\n",
    "\n",
    "La resolución de nombres ocurre de abajo a arriba."
   ]
  },
  {
   "cell_type": "markdown",
   "id": "ordinary-bubble",
   "metadata": {},
   "source": [
    "<img src=\"img/LEGB.png\" width=\"700\">"
   ]
  },
  {
   "cell_type": "code",
   "execution_count": null,
   "id": "opening-firmware",
   "metadata": {},
   "outputs": [],
   "source": [
    "# Global (X y func)\n",
    "X = 99 \n",
    "\n",
    "def func(Y):  # Local (Y y Z)\n",
    "    Z = X + Y\n",
    "    return Z\n",
    "\n",
    "print(func(1))"
   ]
  },
  {
   "cell_type": "code",
   "execution_count": null,
   "id": "several-chest",
   "metadata": {
    "tags": []
   },
   "outputs": [],
   "source": [
    "X = 1\n",
    "\n",
    "def func():\n",
    "    X = 2  # X es una variable diferente\n",
    "\n",
    "func()\n",
    "print(X)"
   ]
  },
  {
   "cell_type": "markdown",
   "id": "interpreted-tracker",
   "metadata": {},
   "source": [
    "* La sentencia *global* nos permite modificar una variable global desde dentro de una función."
   ]
  },
  {
   "cell_type": "code",
   "execution_count": null,
   "id": "progressive-assignment",
   "metadata": {},
   "outputs": [],
   "source": [
    "X = 1\n",
    "\n",
    "def func():\n",
    "    global X\n",
    "    X = 2\n",
    "\n",
    "func()\n",
    "print(X)"
   ]
  },
  {
   "cell_type": "markdown",
   "id": "stable-interval",
   "metadata": {},
   "source": [
    "* No hay necesidad de usar *global* para referenciar variables. Sólo es necesario para modificarlas."
   ]
  },
  {
   "cell_type": "code",
   "execution_count": null,
   "id": "lucky-philosophy",
   "metadata": {},
   "outputs": [],
   "source": [
    "y, z = 1, 2\n",
    "\n",
    "def todas_globales():\n",
    "    global x\n",
    "    x = y + z   # Las tres variables son globales.\n",
    "    \n",
    "todas_globales()\n",
    "print(x)\n",
    "print(y)\n",
    "print(z)"
   ]
  },
  {
   "cell_type": "code",
   "execution_count": null,
   "metadata": {},
   "outputs": [],
   "source": [
    "a = (i for i in range(10))\n",
    "\n",
    "for i in a:\n",
    "    print(i)"
   ]
  },
  {
   "cell_type": "code",
   "execution_count": null,
   "id": "theoretical-tuesday",
   "metadata": {},
   "outputs": [],
   "source": [
    "X = 77\n",
    "\n",
    "def f1():\n",
    "    X = 88       # Enclosing scope (para f2)\n",
    "    def f2():\n",
    "        print(X)\n",
    "    f2()\n",
    "    \n",
    "f1()"
   ]
  },
  {
   "cell_type": "markdown",
   "id": "exclusive-bidder",
   "metadata": {},
   "source": [
    "#### Closures\n",
    "\n",
    "* Las funciones pueden recordar su *enclosing scope*, independientemente de si éstos continuan existiendo o no."
   ]
  },
  {
   "cell_type": "code",
   "execution_count": null,
   "id": "decimal-miller",
   "metadata": {},
   "outputs": [],
   "source": [
    "def f1():\n",
    "    X = 88       # Enclosing scope (para f2)\n",
    "    def f2():\n",
    "        print(X)\n",
    "    return f2    # Devuelve f2, sin invocarla\n",
    "    \n",
    "accion = f1()\n",
    "accion()"
   ]
  },
  {
   "cell_type": "markdown",
   "id": "martial-cream",
   "metadata": {},
   "source": [
    "* Sentencia *nonlocal* para modificar variables que no son locales, pero tampoco globales."
   ]
  },
  {
   "cell_type": "code",
   "execution_count": null,
   "id": "stuck-photography",
   "metadata": {},
   "outputs": [],
   "source": [
    "def f1():\n",
    "    contador = 10\n",
    "    def f2():\n",
    "        nonlocal contador\n",
    "        contador += 1\n",
    "        print(contador)\n",
    "    return f2\n",
    "    \n",
    "accion = f1()\n",
    "accion()\n",
    "accion()\n",
    "accion()"
   ]
  }
 ],
 "metadata": {
  "kernelspec": {
   "display_name": "Python 3",
   "language": "python",
   "name": "python3"
  },
  "language_info": {
   "codemirror_mode": {
    "name": "ipython",
    "version": 3
   },
   "file_extension": ".py",
   "mimetype": "text/x-python",
   "name": "python",
   "nbconvert_exporter": "python",
   "pygments_lexer": "ipython3",
   "version": "3.10.11"
  }
 },
 "nbformat": 4,
 "nbformat_minor": 5
}
